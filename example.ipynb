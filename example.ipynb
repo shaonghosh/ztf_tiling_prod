{
 "cells": [
  {
   "cell_type": "code",
   "execution_count": 1,
   "metadata": {},
   "outputs": [],
   "source": [
    "import pickle\n",
    "\n",
    "import numpy as np\n",
    "import pandas as pd\n",
    "import healpy as hp\n",
    "\n",
    "import realisticRankedTilesGenerator\n",
    "from realisticRankedTilesGenerator import RankedTileGenerator\n",
    "from realisticRankedTilesGenerator import Observationscore\n"
   ]
  },
  {
   "cell_type": "markdown",
   "metadata": {},
   "source": [
    "### Initiate a ranked-tiling object and create a tile-object"
   ]
  },
  {
   "cell_type": "code",
   "execution_count": 2,
   "metadata": {},
   "outputs": [],
   "source": [
    "skymapfile = 'glg_healpix_all_bn180728882.fit'\n",
    "tileobj = RankedTileGenerator()"
   ]
  },
  {
   "cell_type": "markdown",
   "metadata": {},
   "source": [
    "#### The Observationscore class takes as input the tile-object the sky-mapfile, the tile data from tile-object and the observation file, an example of which is in the repo failed_quadrant_sample.txt"
   ]
  },
  {
   "cell_type": "code",
   "execution_count": 3,
   "metadata": {},
   "outputs": [
    {
     "name": "stdout",
     "output_type": "stream",
     "text": [
      "Computing Ranked-Tiles...\n"
     ]
    }
   ],
   "source": [
    "Obs = Observationscore(tileobj, skymapfile, tileobj.tileData)"
   ]
  },
  {
   "cell_type": "markdown",
   "metadata": {},
   "source": [
    "### Use the getProbLost method to compute the probability lost and the area lost"
   ]
  },
  {
   "cell_type": "code",
   "execution_count": 4,
   "metadata": {},
   "outputs": [
    {
     "name": "stdout",
     "output_type": "stream",
     "text": [
      "Total probability lost due to failed quadrants = 0.00047853556270173415\n",
      "Total area lost due to failed quadrants = 5.910723172773824 sq. degs\n"
     ]
    }
   ],
   "source": [
    "[_, prob_lost, _, area_lost] = Obs.getProbLost()\n",
    "print('Total probability lost due to failed quadrants = {}'.format(prob_lost))\n",
    "print('Total area lost due to failed quadrants = {} sq. degs'.format(area_lost))"
   ]
  },
  {
   "cell_type": "code",
   "execution_count": null,
   "metadata": {},
   "outputs": [],
   "source": []
  }
 ],
 "metadata": {
  "kernelspec": {
   "display_name": "Python 3",
   "language": "python",
   "name": "python3"
  },
  "language_info": {
   "codemirror_mode": {
    "name": "ipython",
    "version": 3
   },
   "file_extension": ".py",
   "mimetype": "text/x-python",
   "name": "python",
   "nbconvert_exporter": "python",
   "pygments_lexer": "ipython3",
   "version": "3.6.8"
  }
 },
 "nbformat": 4,
 "nbformat_minor": 2
}
