{
 "cells": [
  {
   "cell_type": "code",
   "execution_count": 1,
   "metadata": {},
   "outputs": [],
   "source": [
    "import pickle\n",
    "\n",
    "import numpy as np\n",
    "import pandas as pd\n",
    "import pylab as pl\n",
    "import healpy as hp\n",
    "\n",
    "import realisticRankedTilesGenerator\n",
    "from realisticRankedTilesGenerator import QuadProb\n",
    "from realisticRankedTilesGenerator import RankedTileGenerator\n"
   ]
  },
  {
   "cell_type": "code",
   "execution_count": 2,
   "metadata": {},
   "outputs": [],
   "source": [
    "skymapfile = 'glg_healpix_all_bn180728882.fit'\n",
    "File = open('fixed_preComputed_256_set_1_python3.dat', 'rb')\n",
    "tileData = pickle.load(File)"
   ]
  },
  {
   "cell_type": "markdown",
   "metadata": {},
   "source": [
    "### First read the skymap"
   ]
  },
  {
   "cell_type": "code",
   "execution_count": 3,
   "metadata": {},
   "outputs": [
    {
     "name": "stdout",
     "output_type": "stream",
     "text": [
      "NSIDE = 128\n",
      "ORDERING = NESTED in fits file\n",
      "INDXSCHM = IMPLICIT\n",
      "Ordering converted to RING\n"
     ]
    },
    {
     "data": {
      "image/png": "[encoded data removed]",
      "text/plain": [
       "<Figure size 612x388.8 with 2 Axes>"
      ]
     },
     "metadata": {
      "needs_background": "light"
     },
     "output_type": "display_data"
    }
   ],
   "source": [
    "skymapdata = hp.read_map(skymapfile)\n",
    "hp.mollview(skymapdata)"
   ]
  },
  {
   "cell_type": "markdown",
   "metadata": {},
   "source": [
    "### Now create the ranked tiles"
   ]
  },
  {
   "cell_type": "code",
   "execution_count": 4,
   "metadata": {},
   "outputs": [
    {
     "name": "stdout",
     "output_type": "stream",
     "text": [
      "Computing Ranked-Tiles...\n"
     ]
    }
   ],
   "source": [
    "t = RankedTileGenerator(precomputedTileFile='fixed_preComputed_256_set_1_python3.dat')\n",
    "rt = t.getRankedTiles(fitsfilename=skymapfile)"
   ]
  },
  {
   "cell_type": "code",
   "execution_count": 5,
   "metadata": {},
   "outputs": [
    {
     "data": {
      "text/html": [
       "<div>\n",
       "<style scoped>\n",
       "    .dataframe tbody tr th:only-of-type {\n",
       "        vertical-align: middle;\n",
       "    }\n",
       "\n",
       "    .dataframe tbody tr th {\n",
       "        vertical-align: top;\n",
       "    }\n",
       "\n",
       "    .dataframe thead th {\n",
       "        text-align: right;\n",
       "    }\n",
       "</style>\n",
       "<table border=\"1\" class=\"dataframe\">\n",
       "  <thead>\n",
       "    <tr style=\"text-align: right;\">\n",
       "      <th></th>\n",
       "      <th>tile_index</th>\n",
       "      <th>tile_prob</th>\n",
       "    </tr>\n",
       "  </thead>\n",
       "  <tbody>\n",
       "    <tr>\n",
       "      <th>0</th>\n",
       "      <td>532.0</td>\n",
       "      <td>0.461749</td>\n",
       "    </tr>\n",
       "    <tr>\n",
       "      <th>1</th>\n",
       "      <td>533.0</td>\n",
       "      <td>0.080263</td>\n",
       "    </tr>\n",
       "    <tr>\n",
       "      <th>2</th>\n",
       "      <td>583.0</td>\n",
       "      <td>0.070691</td>\n",
       "    </tr>\n",
       "    <tr>\n",
       "      <th>3</th>\n",
       "      <td>531.0</td>\n",
       "      <td>0.061690</td>\n",
       "    </tr>\n",
       "    <tr>\n",
       "      <th>4</th>\n",
       "      <td>582.0</td>\n",
       "      <td>0.028613</td>\n",
       "    </tr>\n",
       "  </tbody>\n",
       "</table>\n",
       "</div>"
      ],
      "text/plain": [
       "   tile_index  tile_prob\n",
       "0       532.0   0.461749\n",
       "1       533.0   0.080263\n",
       "2       583.0   0.070691\n",
       "3       531.0   0.061690\n",
       "4       582.0   0.028613"
      ]
     },
     "execution_count": 5,
     "metadata": {},
     "output_type": "execute_result"
    }
   ],
   "source": [
    "rt.head()"
   ]
  },
  {
   "cell_type": "markdown",
   "metadata": {},
   "source": [
    "### Now read in the observation record"
   ]
  },
  {
   "cell_type": "code",
   "execution_count": 6,
   "metadata": {},
   "outputs": [
    {
     "data": {
      "text/html": [
       "<div>\n",
       "<style scoped>\n",
       "    .dataframe tbody tr th:only-of-type {\n",
       "        vertical-align: middle;\n",
       "    }\n",
       "\n",
       "    .dataframe tbody tr th {\n",
       "        vertical-align: top;\n",
       "    }\n",
       "\n",
       "    .dataframe thead th {\n",
       "        text-align: right;\n",
       "    }\n",
       "</style>\n",
       "<table border=\"1\" class=\"dataframe\">\n",
       "  <thead>\n",
       "    <tr style=\"text-align: right;\">\n",
       "      <th></th>\n",
       "      <th>ID</th>\n",
       "      <th>filter</th>\n",
       "      <th>fieldID</th>\n",
       "      <th>chipID</th>\n",
       "      <th>quadID</th>\n",
       "    </tr>\n",
       "  </thead>\n",
       "  <tbody>\n",
       "    <tr>\n",
       "      <th>0</th>\n",
       "      <td>ztf_20180729222303_000481_zr</td>\n",
       "      <td>r</td>\n",
       "      <td>481</td>\n",
       "      <td>1</td>\n",
       "      <td>1</td>\n",
       "    </tr>\n",
       "    <tr>\n",
       "      <th>1</th>\n",
       "      <td>ztf_20180729222303_000481_zr</td>\n",
       "      <td>r</td>\n",
       "      <td>481</td>\n",
       "      <td>1</td>\n",
       "      <td>3</td>\n",
       "    </tr>\n",
       "    <tr>\n",
       "      <th>2</th>\n",
       "      <td>ztf_20180729222303_000481_zr</td>\n",
       "      <td>r</td>\n",
       "      <td>481</td>\n",
       "      <td>1</td>\n",
       "      <td>4</td>\n",
       "    </tr>\n",
       "    <tr>\n",
       "      <th>3</th>\n",
       "      <td>ztf_20180729222303_000481_zr</td>\n",
       "      <td>r</td>\n",
       "      <td>481</td>\n",
       "      <td>2</td>\n",
       "      <td>4</td>\n",
       "    </tr>\n",
       "    <tr>\n",
       "      <th>4</th>\n",
       "      <td>ztf_20180729224502_000584_zr</td>\n",
       "      <td>r</td>\n",
       "      <td>584</td>\n",
       "      <td>1</td>\n",
       "      <td>1</td>\n",
       "    </tr>\n",
       "    <tr>\n",
       "      <th>5</th>\n",
       "      <td>ztf_20180729224502_000584_zr</td>\n",
       "      <td>r</td>\n",
       "      <td>584</td>\n",
       "      <td>1</td>\n",
       "      <td>2</td>\n",
       "    </tr>\n",
       "    <tr>\n",
       "      <th>6</th>\n",
       "      <td>ztf_20180729224502_000584_zr</td>\n",
       "      <td>r</td>\n",
       "      <td>584</td>\n",
       "      <td>1</td>\n",
       "      <td>3</td>\n",
       "    </tr>\n",
       "    <tr>\n",
       "      <th>7</th>\n",
       "      <td>ztf_20180729224502_000584_zr</td>\n",
       "      <td>r</td>\n",
       "      <td>584</td>\n",
       "      <td>1</td>\n",
       "      <td>4</td>\n",
       "    </tr>\n",
       "    <tr>\n",
       "      <th>8</th>\n",
       "      <td>ztf_20180729224502_000584_zr</td>\n",
       "      <td>r</td>\n",
       "      <td>584</td>\n",
       "      <td>2</td>\n",
       "      <td>1</td>\n",
       "    </tr>\n",
       "  </tbody>\n",
       "</table>\n",
       "</div>"
      ],
      "text/plain": [
       "                             ID filter  fieldID  chipID  quadID\n",
       "0  ztf_20180729222303_000481_zr      r      481       1       1\n",
       "1  ztf_20180729222303_000481_zr      r      481       1       3\n",
       "2  ztf_20180729222303_000481_zr      r      481       1       4\n",
       "3  ztf_20180729222303_000481_zr      r      481       2       4\n",
       "4  ztf_20180729224502_000584_zr      r      584       1       1\n",
       "5  ztf_20180729224502_000584_zr      r      584       1       2\n",
       "6  ztf_20180729224502_000584_zr      r      584       1       3\n",
       "7  ztf_20180729224502_000584_zr      r      584       1       4\n",
       "8  ztf_20180729224502_000584_zr      r      584       2       1"
      ]
     },
     "execution_count": 6,
     "metadata": {},
     "output_type": "execute_result"
    }
   ],
   "source": [
    "obs_data = pd.read_csv('failed_quadrant_sample.txt', delimiter=',',\n",
    "                      names=['ID', 'filter', 'fieldID', 'chipID', 'quadID'], skiprows=1)\n",
    "obs_data"
   ]
  },
  {
   "cell_type": "markdown",
   "metadata": {},
   "source": [
    "### Now find how many pixels and what is the probability present in the top ranked tile"
   ]
  },
  {
   "cell_type": "code",
   "execution_count": 7,
   "metadata": {},
   "outputs": [],
   "source": [
    "# def getNumPix_inTile(tile_rank):\n",
    "#     Q = QuadProb()\n",
    "#     tile_ID = int(rt.tile_index.values[tile_rank])\n",
    "#     skymapdata = realisticRankedTilesGenerator.getSkymapData(skymapfile)\n",
    "#     pix_in_tile_fromquad = 0\n",
    "#     prob_in_tile = 0\n",
    "#     prob_in_tile_fromquad = 0\n",
    "#     for chipN in range(1, 17):\n",
    "#         for quadN in range(1, 5):\n",
    "#             quadProb = Q.getQuadProb(skymapdata, tile_ID, chipN, quadN)\n",
    "#             prob_in_tile_fromquad += quadProb\n",
    "#             pix_in_quad = Q.num_pix_in_quad\n",
    "#             pix_in_tile_fromquad += pix_in_quad\n",
    "#     pixels_in_tile = tileData[tile_ID][0] ### Computed directly from the tile-data\n",
    "#     prob_in_tile = rt.tile_prob.values[tile_rank]\n",
    "#     return (len(pixels_in_tile), pix_in_tile_fromquad, prob_in_tile, prob_in_tile_fromquad)"
   ]
  },
  {
   "cell_type": "code",
   "execution_count": 8,
   "metadata": {},
   "outputs": [],
   "source": [
    "# getNumPix_inTile(0)"
   ]
  },
  {
   "cell_type": "code",
   "execution_count": 9,
   "metadata": {},
   "outputs": [],
   "source": [
    "# getNumPix_inTile(2)"
   ]
  },
  {
   "cell_type": "code",
   "execution_count": 10,
   "metadata": {},
   "outputs": [],
   "source": [
    "# rt.tile_prob[rt.tile_index.values==532].values[0]"
   ]
  },
  {
   "cell_type": "code",
   "execution_count": 11,
   "metadata": {},
   "outputs": [],
   "source": [
    "# rt.loc[rt.tile_index==532].tile_prob.values[0]"
   ]
  },
  {
   "cell_type": "code",
   "execution_count": 12,
   "metadata": {},
   "outputs": [
    {
     "name": "stdout",
     "output_type": "stream",
     "text": [
      "Computing Ranked-Tiles...\n"
     ]
    }
   ],
   "source": [
    "p = realisticRankedTilesGenerator.Problost('failed_quadrant_sample.txt', t, skymapfile, tileData)"
   ]
  },
  {
   "cell_type": "code",
   "execution_count": 13,
   "metadata": {},
   "outputs": [
    {
     "name": "stdout",
     "output_type": "stream",
     "text": [
      "Computing correction factors for 481\n",
      "Computing correction factors for 584\n",
      "{481: [0.44587773415591697, 0.8327215586732962], 584: [0.45071982281284606, 0.7682183059516103]}\n"
     ]
    },
    {
     "data": {
      "text/plain": [
       "[0.0006047980270817432,\n",
       " 0.00047853556270173415,\n",
       " 13.11396320642448,\n",
       " 5.910723172773824]"
      ]
     },
     "execution_count": 13,
     "metadata": {},
     "output_type": "execute_result"
    }
   ],
   "source": [
    "p.getProbLost()"
   ]
  },
  {
   "cell_type": "code",
   "execution_count": 14,
   "metadata": {},
   "outputs": [
    {
     "name": "stdout",
     "output_type": "stream",
     "text": [
      "{481: array([1, 1]), 584: array([1, 1])}\n"
     ]
    },
    {
     "data": {
      "text/plain": [
       "[0.0006047980270817432,\n",
       " 0.0006047980270817432,\n",
       " 13.11396320642448,\n",
       " 13.11396320642448]"
      ]
     },
     "execution_count": 14,
     "metadata": {},
     "output_type": "execute_result"
    }
   ],
   "source": [
    "p.getProbLost(whoHasTheTime=True)"
   ]
  },
  {
   "cell_type": "code",
   "execution_count": 15,
   "metadata": {},
   "outputs": [
    {
     "name": "stdout",
     "output_type": "stream",
     "text": [
      "Computing Ranked-Tiles...\n"
     ]
    }
   ],
   "source": [
    "p = realisticRankedTilesGenerator.Problost('../Ranked_Tiling_scripts/failedQuads/failed_field_ccd_quad_20180729.txt',\n",
    "                                           t, skymapfile, tileData)"
   ]
  },
  {
   "cell_type": "code",
   "execution_count": 16,
   "metadata": {},
   "outputs": [
    {
     "name": "stdout",
     "output_type": "stream",
     "text": [
      "{480: array([1, 1]), 481: array([1, 1]), 531: array([1, 1]), 582: array([1, 1]), 584: array([1, 1])}\n"
     ]
    },
    {
     "data": {
      "text/plain": [
       "[0.01000737054714751,\n",
       " 0.01000737054714751,\n",
       " 85.08339328328209,\n",
       " 85.08339328328209]"
      ]
     },
     "execution_count": 16,
     "metadata": {},
     "output_type": "execute_result"
    }
   ],
   "source": [
    "p.getProbLost(whoHasTheTime=True)"
   ]
  },
  {
   "cell_type": "code",
   "execution_count": 17,
   "metadata": {},
   "outputs": [
    {
     "name": "stdout",
     "output_type": "stream",
     "text": [
      "Computing correction factors for 480\n",
      "Computing correction factors for 481\n",
      "Computing correction factors for 531\n",
      "Computing correction factors for 582\n",
      "Computing correction factors for 584\n",
      "{480: [0.44521337946943484, 0.9724105791792826], 481: [0.44587773415591697, 0.8327215586732962], 531: [0.45123318385650224, 0.9766149788228445], 582: [0.45213963963963966, 0.8267076497621894], 584: [0.45071982281284606, 0.7682183059516103]}\n"
     ]
    },
    {
     "data": {
      "text/plain": [
       "[0.01000737054714751,\n",
       " 0.007868316501281971,\n",
       " 85.08339328328209,\n",
       " 38.3487719449566]"
      ]
     },
     "execution_count": 17,
     "metadata": {},
     "output_type": "execute_result"
    }
   ],
   "source": [
    "p.getProbLost()"
   ]
  },
  {
   "cell_type": "code",
   "execution_count": null,
   "metadata": {},
   "outputs": [],
   "source": [
    "data = pd.read_csv('output_template_v2.txt', delimiter=\" \", names=[\"OBS_ID\", \"DATE\", \"TIME\",\n",
    "                                                                   \"FIELD\", \"FILTER\", \"EXPTIME\",\n",
    "                                                                   \"AIRMASS\", \"SEEING\", \"MAGLIM\",\n",
    "                                                                   \"SUBFIELD_ID\", \"QUAD_SUCCESS\",\n",
    "                                                                   \"CCD_ID\", \"QUAD_ID\"], skiprows=1)"
   ]
  }
 ],
 "metadata": {
  "kernelspec": {
   "display_name": "Python 3",
   "language": "python",
   "name": "python3"
  },
  "language_info": {
   "codemirror_mode": {
    "name": "ipython",
    "version": 3
   },
   "file_extension": ".py",
   "mimetype": "text/x-python",
   "name": "python",
   "nbconvert_exporter": "python",
   "pygments_lexer": "ipython3",
   "version": "3.6.8"
  }
 },
 "nbformat": 4,
 "nbformat_minor": 2
}
